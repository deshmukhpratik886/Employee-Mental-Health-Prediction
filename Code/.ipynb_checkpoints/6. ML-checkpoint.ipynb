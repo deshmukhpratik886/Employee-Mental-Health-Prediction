{
 "cells": [
  {
   "cell_type": "markdown",
   "id": "9f1a1c85",
   "metadata": {},
   "source": [
    "# Machine Learning Part\n",
    "**Importing Libraries**"
   ]
  },
  {
   "cell_type": "code",
   "execution_count": 17,
   "id": "9c40fcb2",
   "metadata": {},
   "outputs": [],
   "source": [
    "# Data processing\n",
    "import numpy as np \n",
    "import pandas as pd \n",
    "\n",
    "# Visualization\n",
    "import matplotlib.pyplot as plt\n",
    "import seaborn as sns\n",
    "\n",
    "# Models\n",
    "from scipy.stats import randint\n",
    "from sklearn.preprocessing import binarize\n",
    "from sklearn.model_selection import train_test_split\n",
    "\n",
    "from sklearn.ensemble import RandomForestClassifier, ExtraTreesClassifier\n",
    "from sklearn.linear_model import LogisticRegression\n",
    "from sklearn.tree import DecisionTreeClassifier\n",
    "from sklearn.model_selection import RandomizedSearchCV\n",
    "\n",
    "from sklearn.ensemble import BaggingClassifier, AdaBoostClassifier\n",
    "from sklearn.neighbors import KNeighborsClassifier\n",
    "\n",
    "# Validation \n",
    "from sklearn import metrics\n",
    "from sklearn.metrics import accuracy_score, mean_squared_error, precision_recall_curve, classification_report\n",
    "from sklearn.model_selection import cross_val_score"
   ]
  },
  {
   "cell_type": "markdown",
   "id": "6e52e80d",
   "metadata": {},
   "source": [
    "**Importing csv file for modelling**\n"
   ]
  },
  {
   "cell_type": "code",
   "execution_count": 18,
   "id": "da87de67",
   "metadata": {},
   "outputs": [],
   "source": [
    "# function to load the data and split into feature and target columns\n",
    "def load_data(data_filepath):\n",
    "\n",
    "#data_filepath: file path \n",
    "\n",
    "\n",
    "  data = pd.read_csv('C:\\\\Users\\\\ASUS\\\\Desktop\\\\Final Data Note\\\\Final Data Note\\\\Final Data\\\\Final_encoding.csv')\n",
    "\n",
    "#feature_cols: features list\n",
    "  feature_cols = ['Age', 'Gender', 'Family_History', 'Benefits', 'Medical_Insurence', 'anonymity', 'Medical_Leave', 'after_Interfere_in_work']\n",
    "\n",
    "#X: labels for training\n",
    "  X = data[feature_cols]\n",
    "    \n",
    "#Y: target label\n",
    "  y = data['Treatment']\n",
    "\n",
    "  return X, y, feature_cols"
   ]
  },
  {
   "cell_type": "code",
   "execution_count": 19,
   "id": "6ce72c8e",
   "metadata": {},
   "outputs": [],
   "source": [
    "# Building a forest and checking features importance\n",
    "def feature_importance(X, y, feature_cols):\n",
    "\n",
    "\n",
    "  forest = ExtraTreesClassifier(n_estimators=250, random_state=0)\n",
    "  forest.fit(X, y)\n",
    "\n",
    "  importance = forest.feature_importances_\n",
    "  std = np.std([tree.feature_importances_ for tree in forest.estimators_],axis=0)\n",
    "\n",
    "  indices = np.argsort(importance)[::-1]\n",
    "\n",
    "  labels = []\n",
    "  for f in range(X.shape[1]):\n",
    "      labels.append(feature_cols[f])      \n",
    "     \n",
    "        \n",
    "# Plotting important features \n",
    "  plt.figure(figsize=(12,8))\n",
    "  plt.title(\"Most Important Features\")\n",
    "  plt.bar(range(X.shape[1]), importance[indices],color=\"y\", yerr=std[indices], align=\"center\")\n",
    "\n",
    "  plt.xticks(range(X.shape[1]), labels, rotation='vertical')\n",
    "  plt.xlim([-1, X.shape[1]])\n",
    "\n",
    "  plt.show();"
   ]
  },
  {
   "cell_type": "markdown",
   "id": "98ef9e58",
   "metadata": {},
   "source": [
    "-------------------------------------------------------------------------------\n",
    "**Model 1 : Logistic Regression**"
   ]
  },
  {
   "cell_type": "code",
   "execution_count": 20,
   "id": "15eae4a2",
   "metadata": {},
   "outputs": [],
   "source": [
    "def logisticRegression(X_train, y_train, X_test, y_test, X, y):\n",
    "    '''\n",
    "          X_train: feature labels for training\n",
    "          y_train: target label for training\n",
    "          X_test: feature labels for test\n",
    "          y_test: target label for test\n",
    "          X: labels for training\n",
    "          Y: target label\n",
    "    '''\n",
    "    \n",
    "    # train a logistic regression model on the training set\n",
    "    logreg = LogisticRegression()\n",
    "    logreg.fit(X_train, y_train)\n",
    "    \n",
    "    # make class predictions for the testing set\n",
    "    y_pred_class = logreg.predict(X_test)\n",
    "    \n",
    "    accuracy_score = evaluate_model(logreg, y_test, y_pred_class, X, y)\n",
    "    \n",
    "#Data for final graph\n",
    "    methodDict['Log. Regres.'] = accuracy_score * 100"
   ]
  },
  {
   "cell_type": "markdown",
   "id": "88a60883",
   "metadata": {},
   "source": [
    "-------------------------------------------------------------------------------\n",
    "**Model 2 : K-Nearest Neighbors Classifier**"
   ]
  },
  {
   "cell_type": "code",
   "execution_count": 21,
   "id": "acaf7e58",
   "metadata": {},
   "outputs": [],
   "source": [
    "def Knn(X_train, y_train, X_test, y_test, X, y):\n",
    "    '''\n",
    "          X_train: feature labels for training\n",
    "          y_train: target label for training\n",
    "          X_test: feature labels for test\n",
    "          y_test: target label for test\n",
    "          X: labels for training\n",
    "          Y: target label\n",
    "\n",
    "      '''\n",
    "\n",
    "# Calculating the best parameters\n",
    "    knn = KNeighborsClassifier(n_neighbors=5)\n",
    "    \n",
    "# Defining the parameter values that should be searched\n",
    "    k_range = list(range(1, 31))\n",
    "    weight_options = ['uniform', 'distance']\n",
    "    \n",
    "# Specifying \"parameter distributions\" rather than a \"parameter grid\"\n",
    "    param_dist = dict(n_neighbors=k_range, weights=weight_options)\n",
    "    tuningRandomizedSearchCV(knn, param_dist, X, y)\n",
    "    \n",
    "# Training KNeighborsClassifier model on the training set\n",
    "    knn = KNeighborsClassifier(n_neighbors=27, weights='uniform')\n",
    "    knn.fit(X_train, y_train)\n",
    "    \n",
    "# Making class predictions for the testing set\n",
    "    y_pred_class = knn.predict(X_test)\n",
    "    \n",
    "    accuracy_score = evaluate_model(knn, y_test, y_pred_class, X, y)\n",
    "\n",
    "#Data for final graph\n",
    "    methodDict['KNN'] = accuracy_score * 100"
   ]
  },
  {
   "cell_type": "markdown",
   "id": "4d6a183f",
   "metadata": {},
   "source": [
    "-------------------------------------------------------------------------------\n",
    "**Model 3 : Random Forest Classifier**"
   ]
  },
  {
   "cell_type": "code",
   "execution_count": 22,
   "id": "023c2c71",
   "metadata": {},
   "outputs": [],
   "source": [
    "def randomForest(X_train, y_train, X_test, y_test, feature_cols, X, y):\n",
    "    '''\n",
    "          X_train: feature labels for training\n",
    "          y_train: target label for training\n",
    "          X_test: feature labels for test\n",
    "          y_test: target label for test\n",
    "          feature_cols: features_list\n",
    "          X: labels for training\n",
    "          Y: target label\n",
    "\n",
    "      '''\n",
    "      \n",
    "# Calculating the best parameters\n",
    "    forest = RandomForestClassifier(n_estimators = 20)\n",
    "\n",
    "    featuresSize = feature_cols.__len__()\n",
    "    param_dist = {\"max_depth\": [3, None],\n",
    "              \"max_features\": randint(1, featuresSize),\n",
    "              \"min_samples_split\": randint(2, 9),\n",
    "              \"min_samples_leaf\": randint(1, 9),\n",
    "              \"criterion\": [\"gini\", \"entropy\"]}\n",
    "    tuningRandomizedSearchCV(forest, param_dist, X, y)\n",
    "    \n",
    "# Building and fitting\n",
    "    forest = RandomForestClassifier(max_depth = None, min_samples_leaf=8, min_samples_split=2, n_estimators = 20, random_state = 1)\n",
    "    my_forest = forest.fit(X_train, y_train)\n",
    "    \n",
    "# Making class predictions for the testing set\n",
    "    y_pred_class = my_forest.predict(X_test)\n",
    "    \n",
    "    accuracy_score = evaluate_model(my_forest, y_test, y_pred_class, X, y)\n",
    "\n",
    "#Data for final graph\n",
    "    methodDict['R. Forest'] = accuracy_score * 100"
   ]
  },
  {
   "cell_type": "markdown",
   "id": "34ff527d",
   "metadata": {},
   "source": [
    "-------------------------------------------------------------------------------\n",
    "**Model 4 : Boosting**"
   ]
  },
  {
   "cell_type": "code",
   "execution_count": 23,
   "id": "06f4cb35",
   "metadata": {},
   "outputs": [],
   "source": [
    "def boosting(X_train, y_train, X_test, y_test,X, y):\n",
    "    '''\n",
    "          X_train: feature labels for training\n",
    "          y_train: target label for training\n",
    "          X_test: feature labels for test\n",
    "          y_test: target label for test\n",
    "          X: labels for training\n",
    "          Y: target label\n",
    "\n",
    "      '''\n",
    "      \n",
    "# Building and fitting \n",
    "    clf = DecisionTreeClassifier(criterion='entropy', max_depth=1)\n",
    "    boost = AdaBoostClassifier(base_estimator=clf, n_estimators=500)\n",
    "    boost.fit(X_train, y_train)\n",
    "    \n",
    "# Making class predictions for the testing set\n",
    "    y_pred_class = boost.predict(X_test)\n",
    "  \n",
    "    accuracy_score = evaluate_model(boost, y_test, y_pred_class, X, y)\n",
    "\n",
    "#Data for final graph\n",
    "    methodDict['Boosting'] = accuracy_score * 100"
   ]
  },
  {
   "cell_type": "markdown",
   "id": "b739a7c7",
   "metadata": {},
   "source": [
    "---------------------------------------------------------------------------- \n",
    "**Model 5 : Bagging**"
   ]
  },
  {
   "cell_type": "code",
   "execution_count": 24,
   "id": "d5e42333",
   "metadata": {},
   "outputs": [],
   "source": [
    "def bagging(X_train, y_train, X_test, y_test, X, y):\n",
    "    '''\n",
    "          X_train: feature labels for training\n",
    "          y_train: target label for training\n",
    "          X_test: feature labels for test\n",
    "          y_test: target label for test\n",
    "          X: labels for training\n",
    "          Y: target label\n",
    "\n",
    "      '''\n",
    "      \n",
    "# Building and fitting \n",
    "    bag = BaggingClassifier(DecisionTreeClassifier(), max_samples=1.0, max_features=1.0, bootstrap_features=False)\n",
    "    bag.fit(X_train, y_train)\n",
    "    \n",
    "# Making class predictions for the testing set\n",
    "    y_pred_class = bag.predict(X_test)\n",
    " \n",
    "    accuracy_score = evaluate_model(bag, y_test, y_pred_class, X, y)\n",
    "\n",
    "#Data for final graph\n",
    "    methodDict['Bagging'] = accuracy_score * 100"
   ]
  },
  {
   "cell_type": "markdown",
   "id": "0441da02",
   "metadata": {},
   "source": [
    "-------------------------------------------------------------------------------\n",
    "**Model Evaluation**"
   ]
  },
  {
   "cell_type": "code",
   "execution_count": 25,
   "id": "090e937b",
   "metadata": {},
   "outputs": [],
   "source": [
    "def evaluate_model(model, y_test, y_pred_class,X, y):\n",
    "    '''\n",
    "          model: model to be evaluated\n",
    "          y_test: target label for test\n",
    "          y_pred_class: classes predicted by that model\n",
    "          X: labels for training\n",
    "          Y: target label\n",
    "    \n",
    "          accuracy: accuracy of the evaluated model\n",
    "      '''\n",
    "\n",
    "# Confusion matrix\n",
    "    confusion = metrics.confusion_matrix(y_test, y_pred_class)\n",
    "\n",
    "# Saving values\n",
    "    TP = confusion[1, 1]\n",
    "    TN = confusion[0, 0]\n",
    "    FP = confusion[0, 1]\n",
    "    FN = confusion[1, 0]\n",
    "    \n",
    "# Visualizing Confusion Matrix\n",
    "    print('\\n')\n",
    "    sns.heatmap(confusion,annot=True,fmt=\"d\") \n",
    "    plt.title('Confusion Matrix')\n",
    "    plt.xlabel('Predicted')\n",
    "    plt.ylabel('Actual')\n",
    "    plt.show()\n",
    "    \n",
    "# Classification Accuracy\n",
    "    accuracy = metrics.accuracy_score(y_test, y_pred_class)\n",
    "    print('\\033[1m'+'\\nClassification Accuracy:', accuracy)\n",
    "\n",
    "# AUC Score\n",
    "    print('\\033[1m'+'\\nAUC Score:', metrics.roc_auc_score(y_test, y_pred_class))\n",
    "     \n",
    "# Cross-validated AUC\n",
    "    print('\\033[1m'+'Cross-validated AUC:', cross_val_score(model, X, y, cv=10, scoring='roc_auc').mean(), '\\n')\n",
    "\n",
    "    print('\\033[1m'+'Classification Report:\\n', classification_report(y_test, y_pred_class))\n",
    "\n",
    "    return accuracy"
   ]
  },
  {
   "cell_type": "markdown",
   "id": "495613de",
   "metadata": {},
   "source": [
    "Tuning the Model with Random Search CV"
   ]
  },
  {
   "cell_type": "code",
   "execution_count": 26,
   "id": "7595ff31",
   "metadata": {},
   "outputs": [],
   "source": [
    "def tuningRandomizedSearchCV(model, param_dist, X, y):\n",
    "    '''\n",
    "          model: model for random search CV\n",
    "          param_dist: dictionary of parameters and their values to be searched\n",
    "          X: labels for training\n",
    "          Y: target label\n",
    "\n",
    "      '''\n",
    "\n",
    "# n_iter controls the number of searches\n",
    "    rand = RandomizedSearchCV(model, param_dist, cv=10, scoring='accuracy', n_iter=10, random_state=5)\n",
    "    rand.fit(X, y)\n",
    "    rand.cv_results_\n",
    "    \n",
    "# Examining the best model\n",
    "    print('\\nRandomized Search Best Score: ', rand.best_score_)\n",
    "    print('Randomized Search Best Parameters: ', rand.best_params_)\n",
    "    \n",
    "# Run RandomizedSearchCV 20 times (with n_iter=10) and Record the best score\n",
    "    best_scores = []\n",
    "    for _ in range(20):\n",
    "        rand = RandomizedSearchCV(model, param_dist, cv=10, scoring='accuracy', n_iter=10)\n",
    "        rand.fit(X, y)\n",
    "        best_scores.append(round(rand.best_score_, 3))\n",
    "    print(best_scores)"
   ]
  },
  {
   "cell_type": "markdown",
   "id": "37836401",
   "metadata": {},
   "source": [
    "Saving the Best Model and Predictions"
   ]
  },
  {
   "cell_type": "code",
   "execution_count": 27,
   "id": "07e689e5",
   "metadata": {},
   "outputs": [],
   "source": [
    "# Saving best model results \n",
    "def save_model(X, y, X_test):\n",
    "  '''\n",
    "          X: labels for training\n",
    "          Y: target label\n",
    "          X_test: feature labels for test\n",
    "\n",
    "      '''\n",
    "# Generating predictions with the best method\n",
    "  clf = AdaBoostClassifier()\n",
    "  clf.fit(X, y)\n",
    "  dfTestPredictions = clf.predict(X_test)\n",
    "\n",
    "# Writing predictions to csv file\n",
    "  results = pd.DataFrame({'Index': X_test.index, 'Treatment': dfTestPredictions})\n",
    "\n",
    "# Saving to file\n",
    "  results.to_csv('C:\\\\Users\\\\ASUS\\\\Desktop\\\\Final Data Note\\\\Final Data Note\\\\Final Data\\\\ML_Results.csv', index=False)"
   ]
  },
  {
   "cell_type": "code",
   "execution_count": 28,
   "id": "d7805d5e",
   "metadata": {},
   "outputs": [],
   "source": [
    " # Creating dictionaries for final graph\n",
    "methodDict = {}\n",
    "rmseDict = ()"
   ]
  },
  {
   "cell_type": "markdown",
   "id": "a3101bdf",
   "metadata": {},
   "source": [
    "Main Function of Modelling"
   ]
  },
  {
   "cell_type": "code",
   "execution_count": 29,
   "id": "978ffae9",
   "metadata": {},
   "outputs": [],
   "source": [
    "def main():\n",
    "  data_filepath = '/content/data_for_modelling.csv'\n",
    "  print('Loading data...\\n')  \n",
    "  X, y, feature_cols = load_data(data_filepath)\n",
    "\n",
    "  print('Plotting features in order of their importance..')\n",
    "  feature_importance(X, y, feature_cols)\n",
    "\n",
    "\n",
    "# Split X and y into training and testing sets\n",
    "  X_train, X_test, y_train, y_test = train_test_split(X, y, test_size=0.20, random_state=0)\n",
    "\n",
    "    \n",
    "# Model 1\n",
    "  print('\\033[94m'+'\\033[1m'+'Building model 1: Logistic Regression...'+'\\033[0m')\n",
    "  logisticRegression(X_train, y_train, X_test, y_test, X, y)\n",
    "\n",
    "\n",
    "# Model 2\n",
    "  print('\\n'+'\\033[94m'+'\\033[1m'+'Building model 2: k-Nearest Neighbors Classifier...'+'\\033[0m')\n",
    "  Knn(X_train, y_train, X_test, y_test, X, y)\n",
    "\n",
    "\n",
    "# Model 3\n",
    "  print('\\n'+'\\033[94m'+'\\033[1m'+'Building model 3: Random Forests Classifier...'+'\\033[0m')\n",
    "  randomForest(X_train, y_train, X_test, y_test, feature_cols, X, y)\n",
    "\n",
    "\n",
    "# Model 4\n",
    "  print('\\n'+'\\033[94m'+'\\033[1m'+'Building model 4: Boosting...'+'\\033[0m')\n",
    "  boosting(X_train, y_train, X_test, y_test, X, y)\n",
    "\n",
    "\n",
    "# Model 5\n",
    "  print('\\n'+'\\033[94m'+'\\033[1m'+'Building model 5: Bagging...'+'\\033[0m')\n",
    "  bagging(X_train, y_train, X_test, y_test, X, y)\n",
    "\n",
    "\n",
    "# Saving the best model results in a file\n",
    "  print('Saving model...')\n",
    "  save_model(X, y, X_test)\n",
    "\n",
    "  print('Trained model saved!')"
   ]
  },
  {
   "cell_type": "markdown",
   "id": "1cca5e74",
   "metadata": {},
   "source": [
    "-------------------------------------------------------------------------------\n",
    "**Function call and showing all Prediction Output of Models**"
   ]
  },
  {
   "cell_type": "code",
   "execution_count": 30,
   "id": "21cc640a",
   "metadata": {
    "scrolled": false
   },
   "outputs": [
    {
     "name": "stdout",
     "output_type": "stream",
     "text": [
      "Loading data...\n",
      "\n",
      "Plotting features in order of their importance..\n"
     ]
    },
    {
     "data": {
      "image/png": "[encoded data removed]",
      "text/plain": [
       "<Figure size 864x576 with 1 Axes>"
      ]
     },
     "metadata": {
      "needs_background": "light"
     },
     "output_type": "display_data"
    },
    {
     "name": "stdout",
     "output_type": "stream",
     "text": [
      "\u001b[94m\u001b[1mBuilding model 1: Logistic Regression...\u001b[0m\n",
      "\n",
      "\n"
     ]
    },
    {
     "data": {
      "image/png": "[encoded data removed]",
      "text/plain": [
       "<Figure size 432x288 with 2 Axes>"
      ]
     },
     "metadata": {
      "needs_background": "light"
     },
     "output_type": "display_data"
    },
    {
     "name": "stdout",
     "output_type": "stream",
     "text": [
      "\u001b[1m\n",
      "Classification Accuracy: 0.7783964365256125\n",
      "\u001b[1m\n",
      "AUC Score: 0.7713313926303564\n",
      "\u001b[1mCross-validated AUC: 0.8068218319233138 \n",
      "\n",
      "\u001b[1mClassification Report:\n",
      "               precision    recall  f1-score   support\n",
      "\n",
      "           0       0.77      0.71      0.74       397\n",
      "           1       0.78      0.83      0.81       501\n",
      "\n",
      "    accuracy                           0.78       898\n",
      "   macro avg       0.78      0.77      0.77       898\n",
      "weighted avg       0.78      0.78      0.78       898\n",
      "\n",
      "\n",
      "\u001b[94m\u001b[1mBuilding model 2: k-Nearest Neighbors Classifier...\u001b[0m\n",
      "\n",
      "Randomized Search Best Score:  0.8059169185491569\n",
      "Randomized Search Best Parameters:  {'weights': 'uniform', 'n_neighbors': 27}\n",
      "[0.804, 0.803, 0.807, 0.806, 0.807, 0.806, 0.789, 0.805, 0.804, 0.805, 0.806, 0.805, 0.807, 0.805, 0.807, 0.808, 0.805, 0.806, 0.808, 0.806]\n",
      "\n",
      "\n"
     ]
    },
    {
     "data": {
      "image/png": "[encoded data removed]",
      "text/plain": [
       "<Figure size 432x288 with 2 Axes>"
      ]
     },
     "metadata": {
      "needs_background": "light"
     },
     "output_type": "display_data"
    },
    {
     "name": "stdout",
     "output_type": "stream",
     "text": [
      "\u001b[1m\n",
      "Classification Accuracy: 0.8106904231625836\n",
      "\u001b[1m\n",
      "AUC Score: 0.8036722524723852\n",
      "\u001b[1mCross-validated AUC: 0.854527561660882 \n",
      "\n",
      "\u001b[1mClassification Report:\n",
      "               precision    recall  f1-score   support\n",
      "\n",
      "           0       0.81      0.74      0.78       397\n",
      "           1       0.81      0.86      0.84       501\n",
      "\n",
      "    accuracy                           0.81       898\n",
      "   macro avg       0.81      0.80      0.81       898\n",
      "weighted avg       0.81      0.81      0.81       898\n",
      "\n",
      "\n",
      "\u001b[94m\u001b[1mBuilding model 3: Random Forests Classifier...\u001b[0m\n",
      "\n",
      "Randomized Search Best Score:  0.813933741648107\n",
      "Randomized Search Best Parameters:  {'criterion': 'entropy', 'max_depth': 3, 'max_features': 6, 'min_samples_leaf': 7, 'min_samples_split': 8}\n",
      "[0.814, 0.814, 0.814, 0.815, 0.814, 0.814, 0.814, 0.814, 0.817, 0.815, 0.814, 0.815, 0.814, 0.814, 0.814, 0.814, 0.814, 0.814, 0.814, 0.814]\n",
      "\n",
      "\n"
     ]
    },
    {
     "data": {
      "image/png": "[encoded data removed]",
      "text/plain": [
       "<Figure size 432x288 with 2 Axes>"
      ]
     },
     "metadata": {
      "needs_background": "light"
     },
     "output_type": "display_data"
    },
    {
     "name": "stdout",
     "output_type": "stream",
     "text": [
      "\u001b[1m\n",
      "Classification Accuracy: 0.8184855233853007\n",
      "\u001b[1m\n",
      "AUC Score: 0.8098739548610587\n",
      "\u001b[1mCross-validated AUC: 0.8752571528583901 \n",
      "\n",
      "\u001b[1mClassification Report:\n",
      "               precision    recall  f1-score   support\n",
      "\n",
      "           0       0.83      0.74      0.78       397\n",
      "           1       0.81      0.88      0.84       501\n",
      "\n",
      "    accuracy                           0.82       898\n",
      "   macro avg       0.82      0.81      0.81       898\n",
      "weighted avg       0.82      0.82      0.82       898\n",
      "\n",
      "\n",
      "\u001b[94m\u001b[1mBuilding model 4: Boosting...\u001b[0m\n",
      "\n",
      "\n"
     ]
    },
    {
     "data": {
      "image/png": "[encoded data removed]",
      "text/plain": [
       "<Figure size 432x288 with 2 Axes>"
      ]
     },
     "metadata": {
      "needs_background": "light"
     },
     "output_type": "display_data"
    },
    {
     "name": "stdout",
     "output_type": "stream",
     "text": [
      "\u001b[1m\n",
      "Classification Accuracy: 0.8251670378619154\n",
      "\u001b[1m\n",
      "AUC Score: 0.8179535136276566\n",
      "\u001b[1mCross-validated AUC: 0.8806170629145882 \n",
      "\n",
      "\u001b[1mClassification Report:\n",
      "               precision    recall  f1-score   support\n",
      "\n",
      "           0       0.83      0.76      0.79       397\n",
      "           1       0.82      0.88      0.85       501\n",
      "\n",
      "    accuracy                           0.83       898\n",
      "   macro avg       0.83      0.82      0.82       898\n",
      "weighted avg       0.83      0.83      0.82       898\n",
      "\n",
      "\n",
      "\u001b[94m\u001b[1mBuilding model 5: Bagging...\u001b[0m\n",
      "\n",
      "\n"
     ]
    },
    {
     "data": {
      "image/png": "[encoded data removed]",
      "text/plain": [
       "<Figure size 432x288 with 2 Axes>"
      ]
     },
     "metadata": {
      "needs_background": "light"
     },
     "output_type": "display_data"
    },
    {
     "name": "stdout",
     "output_type": "stream",
     "text": [
      "\u001b[1m\n",
      "Classification Accuracy: 0.7717149220489977\n",
      "\u001b[1m\n",
      "AUC Score: 0.7695264383072644\n",
      "\u001b[1mCross-validated AUC: 0.8184181141399804 \n",
      "\n",
      "\u001b[1mClassification Report:\n",
      "               precision    recall  f1-score   support\n",
      "\n",
      "           0       0.74      0.75      0.74       397\n",
      "           1       0.80      0.79      0.79       501\n",
      "\n",
      "    accuracy                           0.77       898\n",
      "   macro avg       0.77      0.77      0.77       898\n",
      "weighted avg       0.77      0.77      0.77       898\n",
      "\n",
      "Saving model...\n",
      "Trained model saved!\n"
     ]
    }
   ],
   "source": [
    "main()"
   ]
  },
  {
   "cell_type": "code",
   "execution_count": 31,
   "id": "a0684e61",
   "metadata": {},
   "outputs": [],
   "source": [
    "def plotSuccess():\n",
    "    s = pd.Series(methodDict)\n",
    "    s = s.sort_values(ascending=False)\n",
    "    plt.figure(figsize=(10,6))\n",
    "    \n",
    "    ax = s.plot(kind='bar', color=['grey', 'orange', 'lightgreen', 'yellow', 'cyan'], edgecolor='black') \n",
    "    for p in ax.patches:\n",
    "        ax.annotate(str(round(p.get_height(),2)), (p.get_x() * 1.005, p.get_height() * 1.005))\n",
    "    plt.ylim([70.0, 90.0])\n",
    "    plt.xlabel('Model')\n",
    "    plt.ylabel('Accuracy Percentage')\n",
    "    plt.title('Models Performance ')\n",
    "  \n",
    "    plt.show()"
   ]
  },
  {
   "cell_type": "code",
   "execution_count": 32,
   "id": "525b625a",
   "metadata": {},
   "outputs": [
    {
     "data": {
      "image/png": "[encoded data removed]",
      "text/plain": [
       "<Figure size 720x432 with 1 Axes>"
      ]
     },
     "metadata": {
      "needs_background": "light"
     },
     "output_type": "display_data"
    }
   ],
   "source": [
    "# plot of each model with their accuracy value\n",
    "plotSuccess()"
   ]
  },
  {
   "cell_type": "code",
   "execution_count": null,
   "id": "42ee66d1",
   "metadata": {},
   "outputs": [],
   "source": []
  }
 ],
 "metadata": {
  "kernelspec": {
   "display_name": "Python 3 (ipykernel)",
   "language": "python",
   "name": "python3"
  },
  "language_info": {
   "codemirror_mode": {
    "name": "ipython",
    "version": 3
   },
   "file_extension": ".py",
   "mimetype": "text/x-python",
   "name": "python",
   "nbconvert_exporter": "python",
   "pygments_lexer": "ipython3",
   "version": "3.9.12"
  }
 },
 "nbformat": 4,
 "nbformat_minor": 5
}
