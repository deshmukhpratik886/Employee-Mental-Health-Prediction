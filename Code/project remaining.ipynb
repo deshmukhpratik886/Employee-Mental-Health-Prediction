{
 "cells": [
  {
   "cell_type": "code",
   "execution_count": 2,
   "id": "beeed681",
   "metadata": {},
   "outputs": [],
   "source": [
    "import pandas as pd"
   ]
  },
  {
   "cell_type": "code",
   "execution_count": 3,
   "id": "ffacd5eb",
   "metadata": {},
   "outputs": [
    {
     "data": {
      "text/plain": [
       "['Self_Employed',\n",
       " 'No_of_Employees',\n",
       " 'Tech_Company',\n",
       " 'formally_discusse_employer',\n",
       " 'seeking help',\n",
       " 'anonymity',\n",
       " 'Medical_Leave',\n",
       " 'talking_to_coworker',\n",
       " 'supervisor',\n",
       " 'discussed_with_employer',\n",
       " 'issue_discussing',\n",
       " 'discusssed_coworkers',\n",
       " 'physical_health_importance',\n",
       " 'Mental_health_importance',\n",
       " 'Medical_Insurence',\n",
       " 'impact_on_Productivity',\n",
       " 'tech_company',\n",
       " 'Mental_health_Aware',\n",
       " 'have_a_mental_Health',\n",
       " 'treated_Mental_Health(Diagnosed)',\n",
       " 'Past_mental_Health',\n",
       " 'Treatment',\n",
       " 'family history',\n",
       " 'before_Interfere_in_work',\n",
       " 'after_Interfere_in_work',\n",
       " 'Stress_Syndromes',\n",
       " 'share with friends and family',\n",
       " 'a physical potential',\n",
       " 'a mental potential',\n",
       " 'openly_identify',\n",
       " 'co-workers reaction',\n",
       " 'unsupportive workplace',\n",
       " 'supportive workplace',\n",
       " 'tech industry support',\n",
       " 'talk about experience',\n",
       " 'Age',\n",
       " 'Gender',\n",
       " 'Country',\n",
       " 'State',\n",
       " 'race',\n",
       " 'work in country',\n",
       " 'work in state']"
      ]
     },
     "execution_count": 3,
     "metadata": {},
     "output_type": "execute_result"
    }
   ],
   "source": [
    "#import 2017 csv file in jupyter through pandas\n",
    "\n",
    "M1 = pd.read_csv('G:\\\\DBDA\\\\DBDA project\\\\Project data\\\\Project data\\\\Complete record of employee mental health from 2014-2022\\\\OSMI Mental Health in Tech Survey 2017.csv')\n",
    "list(M1.columns)"
   ]
  },
  {
   "cell_type": "code",
   "execution_count": 4,
   "id": "dc667e66",
   "metadata": {},
   "outputs": [
    {
     "data": {
      "text/plain": [
       "['Self_Employed',\n",
       " 'No_of_Employees',\n",
       " 'Tech_Company',\n",
       " 'formally_discusse_employer',\n",
       " 'seeking help',\n",
       " 'anonymity',\n",
       " 'Medical_Leave',\n",
       " 'talking_to_coworker',\n",
       " 'supervisor',\n",
       " 'discussed_with_employer',\n",
       " 'issue_discussing',\n",
       " 'discusssed_coworkers',\n",
       " 'physical_health_importance',\n",
       " 'Mental_health_importance',\n",
       " 'Medical_Insurence',\n",
       " 'impact_on_Productivity',\n",
       " 'tech_company',\n",
       " 'Mental_health_Aware',\n",
       " 'have_a_mental_Health',\n",
       " 'treated_Mental_Health(Diagnosed)',\n",
       " 'Past_mental_Health',\n",
       " 'Treatment',\n",
       " 'family history',\n",
       " 'before_Interfere_in_work',\n",
       " 'after_Interfere_in_work',\n",
       " 'Stress_Syndromes',\n",
       " 'share with friends and family',\n",
       " 'a physical potential',\n",
       " 'a mental potential',\n",
       " 'openly_identify',\n",
       " 'co-workers reaction',\n",
       " 'unsupportive workplace',\n",
       " 'supportive workplace',\n",
       " 'tech industry support',\n",
       " 'talk about experience',\n",
       " 'Age',\n",
       " 'Gender',\n",
       " 'Country',\n",
       " 'State',\n",
       " 'race',\n",
       " 'work in country',\n",
       " 'work in state']"
      ]
     },
     "execution_count": 4,
     "metadata": {},
     "output_type": "execute_result"
    }
   ],
   "source": [
    "#import 2018 csv file in jupyter through pandas\n",
    "\n",
    "M2 = pd.read_csv('G:\\\\DBDA\\\\DBDA project\\\\Project data\\\\Project data\\\\Complete record of employee mental health from 2014-2022\\\\OSMI Mental Health in Tech Survey 2018.csv')\n",
    "list(M2.columns)\n"
   ]
  },
  {
   "cell_type": "code",
   "execution_count": 5,
   "id": "bad1282f",
   "metadata": {},
   "outputs": [
    {
     "data": {
      "text/plain": [
       "['Self_Employed',\n",
       " 'No_of_Employees',\n",
       " 'Tech_Company',\n",
       " 'formally_discusse_employer',\n",
       " 'seeking help',\n",
       " 'anonymity',\n",
       " 'Medical_Leave',\n",
       " 'talking_to_coworker',\n",
       " 'supervisor',\n",
       " 'discussed_with_employer',\n",
       " 'issue_discussing',\n",
       " 'discusssed_coworkers',\n",
       " 'physical_health_importance',\n",
       " 'Mental_health_importance',\n",
       " 'Medical_Insurence',\n",
       " 'impact_on_Productivity',\n",
       " 'tech_company',\n",
       " 'Mental_health_Aware',\n",
       " 'have_a_mental_Health',\n",
       " 'treated_Mental_Health(Diagnosed)',\n",
       " 'Past_mental_Health',\n",
       " 'Treatment',\n",
       " 'family history',\n",
       " 'before_Interfere_in_work',\n",
       " 'after_Interfere_in_work',\n",
       " 'Stress_Syndromes',\n",
       " 'share with friends and family',\n",
       " 'a physical potential',\n",
       " 'a mental potential',\n",
       " 'openly_identify',\n",
       " 'co-workers reaction',\n",
       " 'unsupportive workplace',\n",
       " 'supportive workplace',\n",
       " 'tech industry support',\n",
       " 'talk about experience',\n",
       " 'Age',\n",
       " 'Gender',\n",
       " 'Country',\n",
       " 'State',\n",
       " 'race',\n",
       " 'work in country',\n",
       " 'work in state']"
      ]
     },
     "execution_count": 5,
     "metadata": {},
     "output_type": "execute_result"
    }
   ],
   "source": [
    "#import 2020 csv file in jupyter through pandas\n",
    "\n",
    "M3 = pd.read_csv('G:\\\\DBDA\\\\DBDA project\\\\Project data\\\\Project data\\\\Complete record of employee mental health from 2014-2022\\\\OSMI Mental Health in Tech Survey 2020.csv')\n",
    "list(M3.columns)"
   ]
  },
  {
   "cell_type": "code",
   "execution_count": 6,
   "id": "4e40df24",
   "metadata": {},
   "outputs": [
    {
     "data": {
      "text/plain": [
       "['Self_Employed',\n",
       " 'No_of_Employees',\n",
       " 'Tech_Company',\n",
       " 'formally_discusse_employer',\n",
       " 'seeking help',\n",
       " 'anonymity',\n",
       " 'Medical_Leave',\n",
       " 'talking_to_coworker',\n",
       " 'supervisor',\n",
       " 'discussed_with_employer',\n",
       " 'issue_discussing',\n",
       " 'discusssed_coworkers',\n",
       " 'physical_health_importance',\n",
       " 'Mental_health_importance',\n",
       " 'Medical_Insurence',\n",
       " 'impact_on_Productivity',\n",
       " 'tech_company',\n",
       " 'Mental_health_Aware',\n",
       " 'have_a_mental_Health',\n",
       " 'treated_Mental_Health(Diagnosed)',\n",
       " 'Past_mental_Health',\n",
       " 'Treatment',\n",
       " 'family history',\n",
       " 'before_Interfere_in_work',\n",
       " 'after_Interfere_in_work',\n",
       " 'Stress_Syndromes',\n",
       " 'share with friends and family',\n",
       " 'a physical potential',\n",
       " 'a mental potential',\n",
       " 'openly_identify',\n",
       " 'co-workers reaction',\n",
       " 'unsupportive workplace',\n",
       " 'supportive workplace',\n",
       " 'tech industry support',\n",
       " 'talk about experience',\n",
       " 'Age',\n",
       " 'Gender',\n",
       " 'Country',\n",
       " 'State',\n",
       " 'race',\n",
       " 'work in country',\n",
       " 'work in state']"
      ]
     },
     "execution_count": 6,
     "metadata": {},
     "output_type": "execute_result"
    }
   ],
   "source": [
    "#import 2021 csv file in jupyter through pandas\n",
    "\n",
    "M4 = pd.read_csv('G:\\\\DBDA\\\\DBDA project\\\\Project data\\\\Project data\\\\Complete record of employee mental health from 2014-2022\\\\OSMI Mental Health in Tech Survey 2021.csv')\n",
    "list(M4.columns)"
   ]
  },
  {
   "cell_type": "code",
   "execution_count": 13,
   "id": "516e374e",
   "metadata": {
    "scrolled": true
   },
   "outputs": [
    {
     "data": {
      "text/plain": [
       "['Timestamp',\n",
       " 'Age',\n",
       " 'Gender',\n",
       " 'Country',\n",
       " 'state',\n",
       " 'self_employed',\n",
       " 'family_history',\n",
       " 'treatment',\n",
       " 'work_interfere',\n",
       " 'no_employees',\n",
       " 'remote_work',\n",
       " 'tech_company',\n",
       " 'benefits',\n",
       " 'care_options',\n",
       " 'wellness_program',\n",
       " 'seek_help',\n",
       " 'anonymity',\n",
       " 'leave',\n",
       " 'mental_health_consequence',\n",
       " 'phys_health_consequence',\n",
       " 'coworkers',\n",
       " 'supervisor',\n",
       " 'mental_health_interview',\n",
       " 'phys_health_interview',\n",
       " 'mental_vs_physical',\n",
       " 'obs_consequence',\n",
       " 'comments']"
      ]
     },
     "execution_count": 13,
     "metadata": {},
     "output_type": "execute_result"
    }
   ],
   "source": [
    "#import 2014 csv file in jupyter through pandas\n",
    "\n",
    "M5 = pd.read_csv('G:\\\\DBDA\\\\DBDA project\\\\Project data\\\\Project data\\\\Complete record of employee mental health from 2014-2022\\\\Mental Health in Tech Survey 2014.csv')\n",
    "list(M5.columns)"
   ]
  },
  {
   "cell_type": "code",
   "execution_count": 23,
   "id": "243c50c2",
   "metadata": {},
   "outputs": [],
   "source": [
    "dict5 = {\n",
    "    'state':'State'\n",
    "\n",
    "}"
   ]
  },
  {
   "cell_type": "code",
   "execution_count": 24,
   "id": "6c32114c",
   "metadata": {},
   "outputs": [],
   "source": [
    "df_M5 = pd.DataFrame(M5)\n",
    "\n",
    "df_M5.rename(columns=dict5,\n",
    "          inplace=True)"
   ]
  },
  {
   "cell_type": "code",
   "execution_count": 25,
   "id": "18314f55",
   "metadata": {},
   "outputs": [
    {
     "data": {
      "text/plain": [
       "['Timestamp',\n",
       " 'Age',\n",
       " 'Gender',\n",
       " 'Country',\n",
       " 'State',\n",
       " 'Self_Employed',\n",
       " 'family history',\n",
       " 'Treatment',\n",
       " 'after_Interfere_in_work',\n",
       " 'No_of_Employees',\n",
       " 'remote_work',\n",
       " 'Tech_Company',\n",
       " 'benefits',\n",
       " 'Medical_Insurence',\n",
       " 'wellness_program',\n",
       " 'seeking help',\n",
       " 'anonymity',\n",
       " 'Medical_Leave',\n",
       " 'mental_health_consequence',\n",
       " 'phys_health_consequence',\n",
       " 'talking_to_coworker',\n",
       " 'supervisor',\n",
       " 'a mental potential',\n",
       " 'a physical potential',\n",
       " 'mental_vs_physical',\n",
       " 'obs_consequence',\n",
       " 'comments']"
      ]
     },
     "execution_count": 25,
     "metadata": {},
     "output_type": "execute_result"
    }
   ],
   "source": [
    "list(df_M5.columns)"
   ]
  },
  {
   "cell_type": "code",
   "execution_count": 26,
   "id": "bcf36b6c",
   "metadata": {},
   "outputs": [],
   "source": [
    "\n",
    "df_M5.drop(['Timestamp','obs_consequence',\n",
    " 'comments'],inplace=True,axis=1)"
   ]
  },
  {
   "cell_type": "code",
   "execution_count": 19,
   "id": "aadda794",
   "metadata": {},
   "outputs": [
    {
     "data": {
      "text/plain": [
       "['Age',\n",
       " 'Gender',\n",
       " 'Country',\n",
       " 'state',\n",
       " 'Self_Employed',\n",
       " 'family history',\n",
       " 'Treatment',\n",
       " 'after_Interfere_in_work',\n",
       " 'No_of_Employees',\n",
       " 'remote_work',\n",
       " 'Tech_Company',\n",
       " 'benefits',\n",
       " 'Medical_Insurence',\n",
       " 'wellness_program',\n",
       " 'seeking help',\n",
       " 'anonymity',\n",
       " 'Medical_Leave',\n",
       " 'mental_health_consequence',\n",
       " 'phys_health_consequence',\n",
       " 'talking_to_coworker',\n",
       " 'supervisor',\n",
       " 'a mental potential',\n",
       " 'a physical potential',\n",
       " 'mental_vs_physical']"
      ]
     },
     "execution_count": 19,
     "metadata": {},
     "output_type": "execute_result"
    }
   ],
   "source": [
    "list(df_M5.columns)"
   ]
  },
  {
   "cell_type": "code",
   "execution_count": 27,
   "id": "b8e067c8",
   "metadata": {},
   "outputs": [],
   "source": [
    "#Export the DataFrame file in CSV file 2014\n",
    "\n",
    "df_M5.to_csv('G:\\\\DBDA\\\\DBDA project\\\\Project data\\\\Project data\\\\Complete record of employee mental health from 2014-2022\\\\Mental Health in Tech Survey 2014.csv',index=False)"
   ]
  },
  {
   "cell_type": "code",
   "execution_count": null,
   "id": "37f73327",
   "metadata": {},
   "outputs": [],
   "source": []
  },
  {
   "cell_type": "code",
   "execution_count": null,
   "id": "1b4733ba",
   "metadata": {},
   "outputs": [],
   "source": []
  },
  {
   "cell_type": "code",
   "execution_count": null,
   "id": "9992ca18",
   "metadata": {},
   "outputs": [],
   "source": []
  },
  {
   "cell_type": "code",
   "execution_count": 10,
   "id": "9c89dd9a",
   "metadata": {
    "collapsed": true
   },
   "outputs": [
    {
     "data": {
      "text/plain": [
       "['Self_Employed',\n",
       " 'No_of_Employees',\n",
       " 'Tech_Company',\n",
       " 'Benefits',\n",
       " 'formally_discusse_employer',\n",
       " 'seeking help',\n",
       " 'anonymity',\n",
       " 'Medical_Leave',\n",
       " 'mental_health_consequence',\n",
       " 'phys_health_consequence',\n",
       " 'discussed_with_employer',\n",
       " 'supervisor',\n",
       " 'issue_discussing',\n",
       " 'obs_consequence',\n",
       " 'Medical_Insurence',\n",
       " 'seek_help',\n",
       " 'a physical potential',\n",
       " 'a mental potential',\n",
       " 'Why or why not?.1',\n",
       " 'share with friends and family',\n",
       " 'unsupportive_workplace',\n",
       " 'Family_Histroy',\n",
       " 'Past_mental_Health',\n",
       " 'have_a_mental_Health',\n",
       " 'treated_Mental_Health(Diagnosed)',\n",
       " 'Treatment',\n",
       " 'before_Interfere_in_work',\n",
       " 'after_Interfere_in_work',\n",
       " 'Age',\n",
       " 'Gender',\n",
       " 'Country',\n",
       " 'State',\n",
       " 'work in country',\n",
       " 'work in state',\n",
       " 'AS',\n",
       " 'remote_work']"
      ]
     },
     "execution_count": 10,
     "metadata": {},
     "output_type": "execute_result"
    }
   ],
   "source": [
    "#import 2016 csv file in jupyter through pandas\n",
    "\n",
    "M6 = pd.read_csv('G:\\\\DBDA\\\\DBDA project\\\\Project data\\\\Project data\\\\Complete record of employee mental health from 2014-2022\\\\mental-heath-in-tech-2016_20161114.csv')\n",
    "list(M6.columns)"
   ]
  },
  {
   "cell_type": "code",
   "execution_count": 11,
   "id": "6964623a",
   "metadata": {},
   "outputs": [],
   "source": [
    "df_M6 = pd.DataFrame(M6)\n",
    "\n",
    "\n",
    "df_M6.drop(['AS','Why or why not?.1',],inplace=True,axis=1)"
   ]
  },
  {
   "cell_type": "code",
   "execution_count": 12,
   "id": "ef857bae",
   "metadata": {
    "scrolled": true
   },
   "outputs": [
    {
     "data": {
      "text/plain": [
       "['Self_Employed',\n",
       " 'No_of_Employees',\n",
       " 'Tech_Company',\n",
       " 'Benefits',\n",
       " 'formally_discusse_employer',\n",
       " 'seeking help',\n",
       " 'anonymity',\n",
       " 'Medical_Leave',\n",
       " 'mental_health_consequence',\n",
       " 'phys_health_consequence',\n",
       " 'discussed_with_employer',\n",
       " 'supervisor',\n",
       " 'issue_discussing',\n",
       " 'obs_consequence',\n",
       " 'Medical_Insurence',\n",
       " 'seek_help',\n",
       " 'a physical potential',\n",
       " 'a mental potential',\n",
       " 'share with friends and family',\n",
       " 'unsupportive_workplace',\n",
       " 'Family_Histroy',\n",
       " 'Past_mental_Health',\n",
       " 'have_a_mental_Health',\n",
       " 'treated_Mental_Health(Diagnosed)',\n",
       " 'Treatment',\n",
       " 'before_Interfere_in_work',\n",
       " 'after_Interfere_in_work',\n",
       " 'Age',\n",
       " 'Gender',\n",
       " 'Country',\n",
       " 'State',\n",
       " 'work in country',\n",
       " 'work in state',\n",
       " 'remote_work']"
      ]
     },
     "execution_count": 12,
     "metadata": {},
     "output_type": "execute_result"
    }
   ],
   "source": [
    "list(df_M6.columns)"
   ]
  },
  {
   "cell_type": "code",
   "execution_count": 29,
   "id": "684b243c",
   "metadata": {},
   "outputs": [],
   "source": [
    "dict6 = {\n",
    " 'Family_Histroy':'family history',\n",
    " 'unsupportive_workplace':'unsupportive workplace' }"
   ]
  },
  {
   "cell_type": "code",
   "execution_count": 30,
   "id": "8e3a6a80",
   "metadata": {},
   "outputs": [],
   "source": [
    "df_M6.rename(columns=dict6,\n",
    "          inplace=True)"
   ]
  },
  {
   "cell_type": "code",
   "execution_count": 31,
   "id": "4faf35d6",
   "metadata": {
    "scrolled": true
   },
   "outputs": [
    {
     "data": {
      "text/plain": [
       "['Self_Employed',\n",
       " 'No_of_Employees',\n",
       " 'Tech_Company',\n",
       " 'Benefits',\n",
       " 'formally_discusse_employer',\n",
       " 'seeking help',\n",
       " 'anonymity',\n",
       " 'Medical_Leave',\n",
       " 'mental_health_consequence',\n",
       " 'phys_health_consequence',\n",
       " 'discussed_with_employer',\n",
       " 'supervisor',\n",
       " 'issue_discussing',\n",
       " 'obs_consequence',\n",
       " 'Medical_Insurence',\n",
       " 'seek_help',\n",
       " 'a physical potential',\n",
       " 'a mental potential',\n",
       " 'share with friends and family',\n",
       " 'unsupportive workplace',\n",
       " 'family history',\n",
       " 'Past_mental_Health',\n",
       " 'have_a_mental_Health',\n",
       " 'treated_Mental_Health(Diagnosed)',\n",
       " 'Treatment',\n",
       " 'before_Interfere_in_work',\n",
       " 'after_Interfere_in_work',\n",
       " 'Age',\n",
       " 'Gender',\n",
       " 'Country',\n",
       " 'State',\n",
       " 'work in country',\n",
       " 'work in state',\n",
       " 'remote_work']"
      ]
     },
     "execution_count": 31,
     "metadata": {},
     "output_type": "execute_result"
    }
   ],
   "source": [
    "list(df_M6.columns)"
   ]
  },
  {
   "cell_type": "code",
   "execution_count": 32,
   "id": "974bf7f3",
   "metadata": {},
   "outputs": [],
   "source": [
    "#Export the DataFrame file in CSV file 2016\n",
    "\n",
    "df_M6.to_csv('G:\\\\DBDA\\\\DBDA project\\\\Project data\\\\Project data\\\\Complete record of employee mental health from 2014-2022\\\\mental-heath-in-tech-2016_20161114.csv',index=False)"
   ]
  },
  {
   "cell_type": "code",
   "execution_count": null,
   "id": "6d7387be",
   "metadata": {},
   "outputs": [],
   "source": []
  },
  {
   "cell_type": "code",
   "execution_count": null,
   "id": "7fb062b2",
   "metadata": {},
   "outputs": [],
   "source": []
  },
  {
   "cell_type": "code",
   "execution_count": null,
   "id": "6f9397ef",
   "metadata": {},
   "outputs": [],
   "source": []
  },
  {
   "cell_type": "code",
   "execution_count": 9,
   "id": "06a55941",
   "metadata": {
    "scrolled": true
   },
   "outputs": [
    {
     "data": {
      "text/plain": [
       "['Self_Employed',\n",
       " 'No_of_Employees',\n",
       " 'Tech_Company',\n",
       " 'formally_discusse_employer',\n",
       " 'Seek_Help',\n",
       " 'anonymity',\n",
       " 'Medical_Leave',\n",
       " 'talking_to_coworker',\n",
       " 'supervisor',\n",
       " 'discussed_with_employer',\n",
       " 'issue_discussing',\n",
       " 'physical_health_importance',\n",
       " 'Mental_health_importance',\n",
       " 'Medical_Insurence',\n",
       " 'impact_on_Productivity',\n",
       " 'tech_company',\n",
       " 'Mental_health_Aware',\n",
       " 'have_a_mental_Health',\n",
       " 'treated_Mental_Health(Diagnosed)',\n",
       " 'Past_mental_Health',\n",
       " 'Treatment',\n",
       " 'family_history',\n",
       " 'before_Interfere_in_work',\n",
       " 'after_Interfere_in_work',\n",
       " 'Stress_Syndromes',\n",
       " 'share_with_friends and family',\n",
       " 'a physical potential',\n",
       " 'a mental potential',\n",
       " 'openly_identify',\n",
       " 'co-workers reaction',\n",
       " 'unsupportive_workplace',\n",
       " 'supportive_workplace',\n",
       " 'tech industry support',\n",
       " 'talk about experience',\n",
       " 'Age',\n",
       " 'Gender',\n",
       " 'Country',\n",
       " 'State',\n",
       " 'race',\n",
       " 'work in country',\n",
       " 'work in state']"
      ]
     },
     "execution_count": 9,
     "metadata": {},
     "output_type": "execute_result"
    }
   ],
   "source": [
    "#import 2019 csv file in jupyter through pandas\n",
    "\n",
    "M7 = pd.read_csv('G:\\\\DBDA\\\\DBDA project\\\\Project data\\\\Project data\\\\Complete record of employee mental health from 2014-2022\\\\OSMI Mental Health in Tech Survey 2019.csv')\n",
    "\n",
    "list(M7.columns)"
   ]
  },
  {
   "cell_type": "code",
   "execution_count": 34,
   "id": "00e00c88",
   "metadata": {},
   "outputs": [],
   "source": [
    "dict7 = {\n",
    "    'Seek_Help':'seeking help',\n",
    " 'family_history':'family history',\n",
    " 'share_with_friends and family':'share with friends and family',\n",
    " 'unsupportive_workplace':'unsupportive workplace',\n",
    " 'supportive_workplace':'supportive workplace'}\n"
   ]
  },
  {
   "cell_type": "code",
   "execution_count": 36,
   "id": "ea8b1cee",
   "metadata": {},
   "outputs": [],
   "source": [
    "df_M7 = pd.DataFrame(M7)\n",
    "df_M7.rename(columns=dict7,\n",
    "          inplace=True)"
   ]
  },
  {
   "cell_type": "code",
   "execution_count": 37,
   "id": "5a1703d8",
   "metadata": {},
   "outputs": [
    {
     "data": {
      "text/plain": [
       "['Self_Employed',\n",
       " 'No_of_Employees',\n",
       " 'Tech_Company',\n",
       " 'formally_discusse_employer',\n",
       " 'seeking help',\n",
       " 'anonymity',\n",
       " 'Medical_Leave',\n",
       " 'talking_to_coworker',\n",
       " 'supervisor',\n",
       " 'discussed_with_employer',\n",
       " 'issue_discussing',\n",
       " 'physical_health_importance',\n",
       " 'Mental_health_importance',\n",
       " 'Medical_Insurence',\n",
       " 'impact_on_Productivity',\n",
       " 'tech_company',\n",
       " 'Mental_health_Aware',\n",
       " 'have_a_mental_Health',\n",
       " 'treated_Mental_Health(Diagnosed)',\n",
       " 'Past_mental_Health',\n",
       " 'Treatment',\n",
       " 'family history',\n",
       " 'before_Interfere_in_work',\n",
       " 'after_Interfere_in_work',\n",
       " 'Stress_Syndromes',\n",
       " 'share with friends and family',\n",
       " 'a physical potential',\n",
       " 'a mental potential',\n",
       " 'openly_identify',\n",
       " 'co-workers reaction',\n",
       " 'unsupportive workplace',\n",
       " 'supportive workplace',\n",
       " 'tech industry support',\n",
       " 'talk about experience',\n",
       " 'Age',\n",
       " 'Gender',\n",
       " 'Country',\n",
       " 'State',\n",
       " 'race',\n",
       " 'work in country',\n",
       " 'work in state']"
      ]
     },
     "execution_count": 37,
     "metadata": {},
     "output_type": "execute_result"
    }
   ],
   "source": [
    "list(df_M7.columns)"
   ]
  },
  {
   "cell_type": "code",
   "execution_count": 40,
   "id": "f5f91e35",
   "metadata": {},
   "outputs": [],
   "source": [
    "#Export the DataFrame file in CSV file 2019\n",
    "\n",
    "df_M7.to_csv('G:\\\\DBDA\\\\DBDA project\\\\Project data\\\\Project data\\\\Complete record of employee mental health from 2014-2022\\\\OSMI Mental Health in Tech Survey 2019.csv',index=False)"
   ]
  },
  {
   "cell_type": "code",
   "execution_count": null,
   "id": "796328c9",
   "metadata": {},
   "outputs": [],
   "source": []
  }
 ],
 "metadata": {
  "kernelspec": {
   "display_name": "Python 3 (ipykernel)",
   "language": "python",
   "name": "python3"
  },
  "language_info": {
   "codemirror_mode": {
    "name": "ipython",
    "version": 3
   },
   "file_extension": ".py",
   "mimetype": "text/x-python",
   "name": "python",
   "nbconvert_exporter": "python",
   "pygments_lexer": "ipython3",
   "version": "3.9.12"
  }
 },
 "nbformat": 4,
 "nbformat_minor": 5
}
